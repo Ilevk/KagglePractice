{
 "cells": [
  {
   "cell_type": "markdown",
   "metadata": {},
   "source": [
    "충남대학교 컴퓨터공학과 2018 2학기 인공지능 수업 과제 201504278 강천성"
   ]
  },
  {
   "cell_type": "code",
   "execution_count": 1,
   "metadata": {},
   "outputs": [],
   "source": [
    "import os\n",
    "from os.path import join\n",
    "\n",
    "import pandas as pd\n",
    "import numpy as np\n",
    "from copy import deepcopy"
   ]
  },
  {
   "cell_type": "code",
   "execution_count": 2,
   "metadata": {},
   "outputs": [
    {
     "data": {
      "text/plain": [
       "'./DataSet'"
      ]
     },
     "execution_count": 2,
     "metadata": {},
     "output_type": "execute_result"
    }
   ],
   "source": [
    "inputPath = join(\"./\",\"DataSet\")\n",
    "inputPath"
   ]
  },
  {
   "cell_type": "code",
   "execution_count": 3,
   "metadata": {},
   "outputs": [
    {
     "data": {
      "text/plain": [
       "['iris.csv']"
      ]
     },
     "execution_count": 3,
     "metadata": {},
     "output_type": "execute_result"
    }
   ],
   "source": [
    "os.listdir(inputPath)"
   ]
  },
  {
   "cell_type": "code",
   "execution_count": 4,
   "metadata": {},
   "outputs": [
    {
     "data": {
      "text/html": [
       "<div>\n",
       "<style scoped>\n",
       "    .dataframe tbody tr th:only-of-type {\n",
       "        vertical-align: middle;\n",
       "    }\n",
       "\n",
       "    .dataframe tbody tr th {\n",
       "        vertical-align: top;\n",
       "    }\n",
       "\n",
       "    .dataframe thead th {\n",
       "        text-align: right;\n",
       "    }\n",
       "</style>\n",
       "<table border=\"1\" class=\"dataframe\">\n",
       "  <thead>\n",
       "    <tr style=\"text-align: right;\">\n",
       "      <th></th>\n",
       "      <th>sepal length</th>\n",
       "      <th>sepal width</th>\n",
       "      <th>petal length</th>\n",
       "      <th>petal width</th>\n",
       "      <th>Class</th>\n",
       "    </tr>\n",
       "  </thead>\n",
       "  <tbody>\n",
       "    <tr>\n",
       "      <th>0</th>\n",
       "      <td>5.1</td>\n",
       "      <td>3.5</td>\n",
       "      <td>1.4</td>\n",
       "      <td>0.2</td>\n",
       "      <td>Iris-setosa</td>\n",
       "    </tr>\n",
       "    <tr>\n",
       "      <th>1</th>\n",
       "      <td>4.9</td>\n",
       "      <td>3.0</td>\n",
       "      <td>1.4</td>\n",
       "      <td>0.2</td>\n",
       "      <td>Iris-setosa</td>\n",
       "    </tr>\n",
       "    <tr>\n",
       "      <th>2</th>\n",
       "      <td>4.7</td>\n",
       "      <td>3.2</td>\n",
       "      <td>1.3</td>\n",
       "      <td>0.2</td>\n",
       "      <td>Iris-setosa</td>\n",
       "    </tr>\n",
       "    <tr>\n",
       "      <th>3</th>\n",
       "      <td>4.6</td>\n",
       "      <td>3.1</td>\n",
       "      <td>1.5</td>\n",
       "      <td>0.2</td>\n",
       "      <td>Iris-setosa</td>\n",
       "    </tr>\n",
       "    <tr>\n",
       "      <th>4</th>\n",
       "      <td>5.0</td>\n",
       "      <td>3.6</td>\n",
       "      <td>1.4</td>\n",
       "      <td>0.2</td>\n",
       "      <td>Iris-setosa</td>\n",
       "    </tr>\n",
       "  </tbody>\n",
       "</table>\n",
       "</div>"
      ],
      "text/plain": [
       "   sepal length  sepal width  petal length  petal width        Class\n",
       "0           5.1          3.5           1.4          0.2  Iris-setosa\n",
       "1           4.9          3.0           1.4          0.2  Iris-setosa\n",
       "2           4.7          3.2           1.3          0.2  Iris-setosa\n",
       "3           4.6          3.1           1.5          0.2  Iris-setosa\n",
       "4           5.0          3.6           1.4          0.2  Iris-setosa"
      ]
     },
     "execution_count": 4,
     "metadata": {},
     "output_type": "execute_result"
    }
   ],
   "source": [
    "# 데이터 불러들이기\n",
    "iris = pd.read_csv(join(inputPath,'iris.csv'), names=(\"sepal length\", \"sepal width\", \"petal length\", \"petal width\", \"Class\"))\n",
    "iris.head()"
   ]
  },
  {
   "cell_type": "code",
   "execution_count": 5,
   "metadata": {},
   "outputs": [],
   "source": [
    "#클래스 이름 확인\n",
    "classes = iris[\"Class\"].unique()"
   ]
  },
  {
   "cell_type": "code",
   "execution_count": 6,
   "metadata": {},
   "outputs": [
    {
     "data": {
      "text/html": [
       "<div>\n",
       "<style scoped>\n",
       "    .dataframe tbody tr th:only-of-type {\n",
       "        vertical-align: middle;\n",
       "    }\n",
       "\n",
       "    .dataframe tbody tr th {\n",
       "        vertical-align: top;\n",
       "    }\n",
       "\n",
       "    .dataframe thead th {\n",
       "        text-align: right;\n",
       "    }\n",
       "</style>\n",
       "<table border=\"1\" class=\"dataframe\">\n",
       "  <thead>\n",
       "    <tr style=\"text-align: right;\">\n",
       "      <th></th>\n",
       "      <th>sepal length</th>\n",
       "      <th>sepal width</th>\n",
       "      <th>petal length</th>\n",
       "      <th>petal width</th>\n",
       "      <th>Class</th>\n",
       "    </tr>\n",
       "  </thead>\n",
       "  <tbody>\n",
       "    <tr>\n",
       "      <th>81</th>\n",
       "      <td>5.5</td>\n",
       "      <td>2.4</td>\n",
       "      <td>3.7</td>\n",
       "      <td>1.0</td>\n",
       "      <td>2</td>\n",
       "    </tr>\n",
       "    <tr>\n",
       "      <th>122</th>\n",
       "      <td>7.7</td>\n",
       "      <td>2.8</td>\n",
       "      <td>6.7</td>\n",
       "      <td>2.0</td>\n",
       "      <td>3</td>\n",
       "    </tr>\n",
       "    <tr>\n",
       "      <th>71</th>\n",
       "      <td>6.1</td>\n",
       "      <td>2.8</td>\n",
       "      <td>4.0</td>\n",
       "      <td>1.3</td>\n",
       "      <td>2</td>\n",
       "    </tr>\n",
       "    <tr>\n",
       "      <th>31</th>\n",
       "      <td>5.4</td>\n",
       "      <td>3.4</td>\n",
       "      <td>1.5</td>\n",
       "      <td>0.4</td>\n",
       "      <td>1</td>\n",
       "    </tr>\n",
       "    <tr>\n",
       "      <th>119</th>\n",
       "      <td>6.0</td>\n",
       "      <td>2.2</td>\n",
       "      <td>5.0</td>\n",
       "      <td>1.5</td>\n",
       "      <td>3</td>\n",
       "    </tr>\n",
       "    <tr>\n",
       "      <th>129</th>\n",
       "      <td>7.2</td>\n",
       "      <td>3.0</td>\n",
       "      <td>5.8</td>\n",
       "      <td>1.6</td>\n",
       "      <td>3</td>\n",
       "    </tr>\n",
       "    <tr>\n",
       "      <th>114</th>\n",
       "      <td>5.8</td>\n",
       "      <td>2.8</td>\n",
       "      <td>5.1</td>\n",
       "      <td>2.4</td>\n",
       "      <td>3</td>\n",
       "    </tr>\n",
       "    <tr>\n",
       "      <th>135</th>\n",
       "      <td>7.7</td>\n",
       "      <td>3.0</td>\n",
       "      <td>6.1</td>\n",
       "      <td>2.3</td>\n",
       "      <td>3</td>\n",
       "    </tr>\n",
       "    <tr>\n",
       "      <th>89</th>\n",
       "      <td>5.5</td>\n",
       "      <td>2.5</td>\n",
       "      <td>4.0</td>\n",
       "      <td>1.3</td>\n",
       "      <td>2</td>\n",
       "    </tr>\n",
       "    <tr>\n",
       "      <th>61</th>\n",
       "      <td>5.9</td>\n",
       "      <td>3.0</td>\n",
       "      <td>4.2</td>\n",
       "      <td>1.5</td>\n",
       "      <td>2</td>\n",
       "    </tr>\n",
       "  </tbody>\n",
       "</table>\n",
       "</div>"
      ],
      "text/plain": [
       "     sepal length  sepal width  petal length  petal width  Class\n",
       "81            5.5          2.4           3.7          1.0      2\n",
       "122           7.7          2.8           6.7          2.0      3\n",
       "71            6.1          2.8           4.0          1.3      2\n",
       "31            5.4          3.4           1.5          0.4      1\n",
       "119           6.0          2.2           5.0          1.5      3\n",
       "129           7.2          3.0           5.8          1.6      3\n",
       "114           5.8          2.8           5.1          2.4      3\n",
       "135           7.7          3.0           6.1          2.3      3\n",
       "89            5.5          2.5           4.0          1.3      2\n",
       "61            5.9          3.0           4.2          1.5      2"
      ]
     },
     "execution_count": 6,
     "metadata": {},
     "output_type": "execute_result"
    }
   ],
   "source": [
    "# 클래스 이름을 Iris-setosa : 1, Iris-versicolor : 2, Iris-virginica : 3 으로 대체\n",
    "iris[\"Class\"].replace(classes[0], 1, inplace = True) \n",
    "iris[\"Class\"].replace(classes[1], 2, inplace = True) \n",
    "iris[\"Class\"].replace(classes[2], 3, inplace = True) \n",
    "\n",
    "# 복원 추출로 10개를 샘플링해 제대로 클래스 이름이 숫자로 대체 되었는지 확인.\n",
    "iris.sample(10)"
   ]
  },
  {
   "cell_type": "markdown",
   "metadata": {},
   "source": [
    "One vs Rest Multiclass Classification https://en.wikipedia.org/wiki/Multiclass_classification#One-vs.-rest\n",
    "\n",
    "선형 분리로 One vs Rest 다중 클래스 분류를 할것이기 때문에 SVM Classifier의 Kernel 중 LinearKernel을 사용합니다."
   ]
  },
  {
   "cell_type": "code",
   "execution_count": 7,
   "metadata": {},
   "outputs": [],
   "source": [
    "iris_x = deepcopy(iris)\n",
    "iris_y = deepcopy(iris['Class'])\n",
    "del iris_x['Class']"
   ]
  },
  {
   "cell_type": "code",
   "execution_count": 8,
   "metadata": {},
   "outputs": [],
   "source": [
    "from sklearn.model_selection import train_test_split\n",
    "\n",
    "train_x, test_x, train_y, test_y = train_test_split(iris_x,iris_y, test_size=0.20)\n",
    "# 훈련데이터와 테스트 데이터로 분리\n"
   ]
  },
  {
   "cell_type": "code",
   "execution_count": 9,
   "metadata": {},
   "outputs": [],
   "source": [
    "# 분류기에 넣을 데이터 준비. 1번 분류기는 1번 클래스에 대해서만 True로 판별하고 2,3 번 클래스에 대해서는 False로 판별해야 하므로,\n",
    "# 1번 클래스만 1로 2,3번 클래스는 0으로 변경하여 데이터를 넣어줄 예정. 2번 3번 분류기에 대해서도 동일하게 데이터를 넣어주려고 한다.\n",
    "x_train = list()\n",
    "y_train = list()\n",
    "x_test = list()\n",
    "y_test = list()\n",
    "for i in range(len(classes)):\n",
    "    x_train.append(deepcopy(train_x))\n",
    "    y_train.append(deepcopy(train_y))\n",
    "    x_test.append(deepcopy(test_x))\n",
    "    y_test.append(deepcopy(test_y))\n",
    "    if i == 0:\n",
    "        y_train[i].replace(i+1,1, inplace = True)\n",
    "        y_train[i].replace(2,-1, inplace = True)\n",
    "        y_train[i].replace(3,-1, inplace = True)\n",
    "        y_test[i].replace(i+1,1, inplace = True)\n",
    "        y_test[i].replace(2,-1, inplace = True)\n",
    "        y_test[i].replace(3,-1, inplace = True)\n",
    "    elif i == 1:\n",
    "        y_train[i].replace(1,-1, inplace = True)\n",
    "        y_train[i].replace(i+1,1, inplace = True)\n",
    "        y_train[i].replace(3,-1, inplace = True)\n",
    "        y_test[i].replace(1,-1, inplace = True)\n",
    "        y_test[i].replace(i+1,1, inplace = True)\n",
    "        y_test[i].replace(3,-1, inplace = True)\n",
    "    else :\n",
    "        y_train[i].replace(1,-1, inplace = True)\n",
    "        y_train[i].replace(2,-1, inplace = True)\n",
    "        y_train[i].replace(i+1,1, inplace = True)\n",
    "        y_test[i].replace(1,-1, inplace = True)\n",
    "        y_test[i].replace(2,-1, inplace = True)\n",
    "        y_test[i].replace(i+1,1, inplace = True)\n",
    "# print(y_test[2])\n",
    "for i in range(3):\n",
    "    x_train[i].astype(np.float64)\n",
    "    y_train[i].astype(np.float64)\n",
    "    x_test[i].astype(np.float64)\n",
    "    y_test[i].astype(np.float64)"
   ]
  },
  {
   "cell_type": "code",
   "execution_count": 10,
   "metadata": {},
   "outputs": [],
   "source": [
    "weight_1 = np.random.normal(0, 1, 4)\n",
    "weight_2 = np.random.normal(0, 1, 4)\n",
    "weight_3 = np.random.normal(0, 1, 4)\n",
    "\n",
    "bias_1 = np.random.normal(0,1,1)\n",
    "bias_2 = np.random.normal(0,1,1)\n",
    "bias_3 = np.random.normal(0,1,1)\n",
    "\n",
    "# train iteration 500\n",
    "for _ in range(500) : \n",
    "    # Class 1\n",
    "    for x, y in zip(x_train[0].values, y_train[0].values) :\n",
    "        result_1 = np.dot(x, weight_1) + bias_1\n",
    "        result_1 = np.sign(result_1)\n",
    "        if(result_1 != y):\n",
    "            weight_1 = weight_1 + np.dot(y, x)\n",
    "        \n",
    "    # Class 2\n",
    "    for x, y in zip(x_train[1].values, y_train[1].values) :\n",
    "        result_2 = np.dot(x, weight_2) + bias_2\n",
    "        result_2 = np.sign(result_2)\n",
    "        if(result_2 != y):\n",
    "            weight_2 = weight_2 + np.dot(y, x)\n",
    "    # Class 3\n",
    "    for x, y in zip(x_train[2].values, y_train[2].values) :\n",
    "        result_3 = np.dot(x, weight_3) + bias_3\n",
    "        result_3 = np.sign(result_3)\n",
    "        if(result_3 != y):\n",
    "            weight_3 = weight_3 + np.dot(y, x)"
   ]
  },
  {
   "cell_type": "code",
   "execution_count": 11,
   "metadata": {},
   "outputs": [
    {
     "name": "stdout",
     "output_type": "stream",
     "text": [
      "Class 1만 분류하는 분류기의 정확도 : 100.00 Class 2만 분류하는 분류기의 정확도 : 86.67 Class 3만 분류하는 분류기의 정확도 : 96.67\n"
     ]
    }
   ],
   "source": [
    "result_1 = np.dot(x_test[0].values, weight_1) + bias_1\n",
    "result_1 = np.sign(result_1)\n",
    "\n",
    "result_2 = np.dot(x_test[1].values, weight_2) + bias_2\n",
    "result_2 = np.sign(result_2)\n",
    "\n",
    "result_3 = np.dot(x_test[2].values, weight_3) + bias_3\n",
    "result_3 = np.sign(result_3)\n",
    "\n",
    "accuracy_1 = sum([ 1 if predict_y == true_y else 0 for predict_y, true_y in zip(result_1, y_test[0])])/len(y_test[0])\n",
    "accuracy_2 = sum([ 1 if predict_y == true_y else 0 for predict_y, true_y in zip(result_2, y_test[1])])/len(y_test[1])\n",
    "accuracy_3 = sum([ 1 if predict_y == true_y else 0 for predict_y, true_y in zip(result_3, y_test[2])])/len(y_test[2])\n",
    "\n",
    "\n",
    "print(\"Class 1만 분류하는 분류기의 정확도 : \"+str('{:.2f}').format(accuracy_1*100) + \" Class 2만 분류하는 분류기의 정확도 : \" \n",
    "      + str('{:.2f}').format(accuracy_2*100) +\" Class 3만 분류하는 분류기의 정확도 : \"+ str('{:.2f}').format(accuracy_3*100))"
   ]
  },
  {
   "cell_type": "code",
   "execution_count": 12,
   "metadata": {},
   "outputs": [],
   "source": [
    "predict_y = list()\n",
    "\n",
    "# 3개의 선형 분류기를 합쳐서 1개의 다중 분류기 만들기\n",
    "for x in test_x.values:\n",
    "    result_1 = np.dot(x, weight_1) + bias_1\n",
    "    result_1 = np.sign(result_1)\n",
    "\n",
    "    result_2 = np.dot(x, weight_2) + bias_2\n",
    "    result_2 = np.sign(result_2)\n",
    "\n",
    "    result_3 = np.dot(x, weight_3) + bias_3\n",
    "    result_3 = np.sign(result_3)\n",
    "    \n",
    "    if result_1 == 1 :\n",
    "        predict_y.append(1)\n",
    "    elif result_2 == 1:\n",
    "        predict_y.append(2)\n",
    "    elif result_3 == 1:\n",
    "        predict_y.append(3)\n",
    "    else :\n",
    "        # 3개의 분류기가 분류하지 못했다면, 3개의 직선으로 표현되지 못하는 부분의 데이터라고 생각해볼 수 있다.\n",
    "        predict_y.append(0)"
   ]
  },
  {
   "cell_type": "code",
   "execution_count": 13,
   "metadata": {},
   "outputs": [
    {
     "name": "stdout",
     "output_type": "stream",
     "text": [
      "3개의 Single Perceptron을 사용한 MultiClass Classifier의 정확도 : 86.67\n"
     ]
    }
   ],
   "source": [
    "# test_y 와 예측한 y의 값을 비교해 정확도를 얻어낸다.\n",
    "accuracy = sum([ 1 if predict_y == true_y else 0 for predict_y, true_y in zip(predict_y, test_y)])/len(test_y)\n",
    "\n",
    "print(str('3개의 Single Perceptron을 사용한 MultiClass Classifier의 정확도 : {:.2f}').format(accuracy*100))"
   ]
  },
  {
   "cell_type": "markdown",
   "metadata": {},
   "source": [
    "생각보다 정확도가 잘 안나왔다. 아무래도 3개의 직선으로만 표현하려다 보니 가운데에 위치하거나 특정 위치의 값을 잘 분류하지 못하는 것 같다."
   ]
  }
 ],
 "metadata": {
  "kernelspec": {
   "display_name": "Python 3",
   "language": "python",
   "name": "python3"
  },
  "language_info": {
   "codemirror_mode": {
    "name": "ipython",
    "version": 3
   },
   "file_extension": ".py",
   "mimetype": "text/x-python",
   "name": "python",
   "nbconvert_exporter": "python",
   "pygments_lexer": "ipython3",
   "version": "3.6.5"
  }
 },
 "nbformat": 4,
 "nbformat_minor": 2
}
